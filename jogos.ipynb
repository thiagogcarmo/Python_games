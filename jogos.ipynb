{
  "nbformat": 4,
  "nbformat_minor": 0,
  "metadata": {
    "colab": {
      "provenance": [],
      "authorship_tag": "ABX9TyPvjKXJ6JBuTqXc0N11HOot",
      "include_colab_link": true
    },
    "kernelspec": {
      "name": "python3",
      "display_name": "Python 3"
    },
    "language_info": {
      "name": "python"
    }
  },
  "cells": [
    {
      "cell_type": "markdown",
      "metadata": {
        "id": "view-in-github",
        "colab_type": "text"
      },
      "source": [
        "<a href=\"https://colab.research.google.com/github/thiagogcarmo/Python_games/blob/main/jogos.ipynb\" target=\"_parent\"><img src=\"https://colab.research.google.com/assets/colab-badge.svg\" alt=\"Open In Colab\"/></a>"
      ]
    },
    {
      "cell_type": "code",
      "execution_count": 1,
      "metadata": {
        "colab": {
          "base_uri": "https://localhost:8080/"
        },
        "id": "t9ZtXeXRhjlq",
        "outputId": "d6fe030a-ba0d-4ad2-dbbc-b23dc696b019"
      },
      "outputs": [
        {
          "output_type": "stream",
          "name": "stdout",
          "text": [
            "Personagem(nome=Gordiy Sharko, idade=64, genero=Masculino, estado_espirito=Neutro, animo=Baixo, saude=Ótima)\n"
          ]
        }
      ],
      "source": [
        "import requests\n",
        "import random\n",
        "\n",
        "class Personagem:\n",
        "    def __init__(self, nome, idade, genero, estado_espirito, animo, saude):\n",
        "        self.nome = nome\n",
        "        self.idade = idade\n",
        "        self.genero = genero\n",
        "        self.estado_espirito = estado_espirito\n",
        "        self.animo = animo\n",
        "        self.saude = saude\n",
        "\n",
        "    def __repr__(self):\n",
        "        return (f'Personagem(nome={self.nome}, idade={self.idade}, genero={self.genero}, '\n",
        "                f'estado_espirito={self.estado_espirito}, animo={self.animo}, saude={self.saude})')\n",
        "\n",
        "def gerar_nome_aleatorio():\n",
        "    response = requests.get('https://randomuser.me/api/')\n",
        "    data = response.json()\n",
        "    nome = data['results'][0]['name']['first'] + ' ' + data['results'][0]['name']['last']\n",
        "    return nome\n",
        "\n",
        "def gerar_genero_aleatorio():\n",
        "    return random.choice(['Masculino', 'Feminino', 'Outro'])\n",
        "\n",
        "def gerar_estado_espirito_aleatorio():\n",
        "    return random.choice(['Feliz', 'Triste', 'Neutro', 'Raivoso', 'Animado', 'Cansado'])\n",
        "\n",
        "def gerar_animo_aleatorio():\n",
        "    return random.choice(['Alto', 'Médio', 'Baixo'])\n",
        "\n",
        "def gerar_saude_aleatoria():\n",
        "    return random.choice(['Ótima', 'Boa', 'Regular', 'Ruim', 'Péssima'])\n",
        "\n",
        "def gerar_idade_aleatoria():\n",
        "    return random.randint(10, 90)\n",
        "\n",
        "def criar_personagem():\n",
        "    nome = gerar_nome_aleatorio()\n",
        "    idade = gerar_idade_aleatoria()\n",
        "    genero = gerar_genero_aleatorio()\n",
        "    estado_espirito = gerar_estado_espirito_aleatorio()\n",
        "    animo = gerar_animo_aleatorio()\n",
        "    saude = gerar_saude_aleatoria()\n",
        "\n",
        "    return Personagem(nome, idade, genero, estado_espirito, animo, saude)\n",
        "\n",
        "# Testando a função\n",
        "personagem = criar_personagem()\n",
        "print(personagem)"
      ]
    }
  ]
}